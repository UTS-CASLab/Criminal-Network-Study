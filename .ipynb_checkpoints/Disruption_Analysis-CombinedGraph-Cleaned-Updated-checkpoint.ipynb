{
 "cells": [
  {
   "cell_type": "code",
   "execution_count": null,
   "id": "bd1c4b88",
   "metadata": {},
   "outputs": [],
   "source": [
    "from utility_functions import *"
   ]
  },
  {
   "cell_type": "code",
   "execution_count": null,
   "id": "8f404a42",
   "metadata": {},
   "outputs": [],
   "source": [
    "import pandas as pd\n",
    "import networkx as nx\n",
    "import seaborn as sns\n",
    "import matplotlib.pyplot as plt"
   ]
  },
  {
   "cell_type": "markdown",
   "id": "273f6574",
   "metadata": {},
   "source": [
    "## Load graph"
   ]
  },
  {
   "cell_type": "code",
   "execution_count": null,
   "id": "5305b434",
   "metadata": {},
   "outputs": [],
   "source": [
    "G_Combined = nx.read_weighted_edgelist(\"Data/Combined_Edge_List.csv\", create_using=nx.Graph, delimiter=',')"
   ]
  },
  {
   "cell_type": "markdown",
   "id": "24748cdf",
   "metadata": {},
   "source": [
    "### Retaining only the largest connected component in G_Combined"
   ]
  },
  {
   "cell_type": "code",
   "execution_count": null,
   "id": "405b0763",
   "metadata": {},
   "outputs": [],
   "source": [
    "components = list(nx.connected_components(G_Combined))\n",
    "large_components = [c for c in components if len(c) >= 5]\n",
    "G_Combined = G_Combined.subgraph(large_components[0])"
   ]
  },
  {
   "cell_type": "code",
   "execution_count": null,
   "id": "a7d49bf8",
   "metadata": {},
   "outputs": [],
   "source": [
    "nx.info(G_Combined)"
   ]
  },
  {
   "cell_type": "code",
   "execution_count": null,
   "id": "a7cf95ef",
   "metadata": {},
   "outputs": [],
   "source": [
    "nodePos = nx.spring_layout(G_Combined, seed=23)"
   ]
  },
  {
   "cell_type": "markdown",
   "id": "5165bcaa",
   "metadata": {},
   "source": [
    "## GRD Analysis"
   ]
  },
  {
   "cell_type": "markdown",
   "id": "644ac897",
   "metadata": {},
   "source": [
    "### Block size = 1"
   ]
  },
  {
   "cell_type": "code",
   "execution_count": null,
   "id": "a188593b",
   "metadata": {},
   "outputs": [],
   "source": [
    "R, lcc_sizes , graph_snapshots, directly_removed_nodes_properties = disruption_GRD_analysis(G_Combined, main_centr='GRD-Analysis')"
   ]
  },
  {
   "cell_type": "code",
   "execution_count": null,
   "id": "dd1f74fe",
   "metadata": {},
   "outputs": [],
   "source": [
    "df = pd.DataFrame.from_dict(directly_removed_nodes_properties, orient='index').reset_index()\n",
    "df.columns = ['node', 'betweenness_rank', 'degree_rank', 'is_ap']"
   ]
  },
  {
   "cell_type": "markdown",
   "id": "9e09be8d",
   "metadata": {},
   "source": [
    "### Block size = 2"
   ]
  },
  {
   "cell_type": "code",
   "execution_count": null,
   "id": "284e07c7",
   "metadata": {},
   "outputs": [],
   "source": [
    "R2, lcc_sizes_2, graph_snapshots_2, directly_removed_nodes_properties_2 = disruption_GRD_analysis(G_Combined, main_centr=\"GRD-Analysis\", block_size=2, percentage=0.2)"
   ]
  },
  {
   "cell_type": "code",
   "execution_count": null,
   "id": "d1a2a8d3",
   "metadata": {},
   "outputs": [],
   "source": [
    "flat_list = [item for sublist in directly_removed_nodes_properties_2.values() for item in sublist]\n",
    "df2 = pd.DataFrame(flat_list)"
   ]
  },
  {
   "cell_type": "markdown",
   "id": "52216ef1",
   "metadata": {},
   "source": [
    "### Block size = 3"
   ]
  },
  {
   "cell_type": "code",
   "execution_count": null,
   "id": "7f1bbf55",
   "metadata": {},
   "outputs": [],
   "source": [
    "R_3, lcc_sizes_3, graph_snapshots_3, directly_removed_nodes_properties_3 = disruption_GRD_analysis(G_Combined, main_centr=\"GRD-Analysis\", block_size=3, percentage=0.2)"
   ]
  },
  {
   "cell_type": "code",
   "execution_count": null,
   "id": "eac5c3a8",
   "metadata": {},
   "outputs": [],
   "source": [
    "flat_list = [item for sublist in directly_removed_nodes_properties_3.values() for item in sublist]\n",
    "df3 = pd.DataFrame(flat_list)"
   ]
  },
  {
   "cell_type": "markdown",
   "id": "5f64efe5",
   "metadata": {},
   "source": [
    "### Block size = 4"
   ]
  },
  {
   "cell_type": "code",
   "execution_count": null,
   "id": "23605658",
   "metadata": {},
   "outputs": [],
   "source": [
    "R_4, lcc_sizes_4, graph_snapshots_4, directly_removed_nodes_properties_4 = disruption_GRD_analysis(G_Combined, main_centr=\"GRD-Analysis\", block_size=4, percentage=0.2)\n",
    "\n",
    "flat_list = [item for sublist in directly_removed_nodes_properties_4.values() for item in sublist]\n",
    "df4 = pd.DataFrame(flat_list)"
   ]
  },
  {
   "cell_type": "code",
   "execution_count": null,
   "id": "e2d4ffbd",
   "metadata": {},
   "outputs": [],
   "source": [
    "from matplotlib.ticker import StrMethodFormatter\n",
    "import matplotlib.gridspec as gridspec\n",
    "\n",
    "fig = plt.figure(figsize=(20, 11))\n",
    "\n",
    "# Adjust to have 4 rows and 3 columns\n",
    "gs = gridspec.GridSpec(4, 3, width_ratios=[3.5, 3.6, 0.9]) \n",
    "\n",
    "# Common font size\n",
    "font_size = 16\n",
    "    \n",
    "def plot_data(ax, data, xlabel=None, ylabel=None, sort_ascending=True, hatch_style=None):\n",
    "    data.value_counts().sort_index(ascending=sort_ascending).plot(kind='bar', facecolor='none', edgecolor='black', linewidth=2, ax=ax, hatch=hatch_style)\n",
    "    if xlabel:\n",
    "        ax.set_xlabel(xlabel, fontsize=font_size + 1)\n",
    "    if ylabel:\n",
    "        ax.set_ylabel(ylabel, fontsize=font_size + 1)\n",
    "    total = len(data)\n",
    "    for p in ax.patches:\n",
    "        percentage = '{:.1f}%'.format(100 * p.get_height()/total)\n",
    "        ax.annotate(percentage, (p.get_x(), p.get_height() + 0.15), color='black', fontsize=font_size - 3)\n",
    "    ax.tick_params(axis='x', labelsize=font_size, rotation=0)\n",
    "    ax.tick_params(axis='y', labelsize=font_size)\n",
    "    # Remove top and right spines\n",
    "    ax.spines['top'].set_visible(False)\n",
    "    ax.spines['right'].set_visible(False)\n",
    "\n",
    "# Formatter for y-axis\n",
    "y_format = StrMethodFormatter('{x:.0f}')\n",
    "\n",
    "# First row (no x-labels)\n",
    "ax0 = plt.subplot(gs[0])\n",
    "plot_data(ax0, df['betweenness_rank'], ylabel='Frequency (b=1)', hatch_style=' ')\n",
    "ax0.yaxis.set_major_formatter(y_format)\n",
    "\n",
    "plot_data(plt.subplot(gs[1]), df['degree_rank'], hatch_style='//')\n",
    "plot_data(plt.subplot(gs[2]), df['is_ap'], sort_ascending=False, hatch_style='..')\n",
    "\n",
    "# Second row (no x-labels)\n",
    "plot_data(plt.subplot(gs[3]), df2['betweenness_rank'], ylabel='Frequency (b=2)', hatch_style=' ')\n",
    "plot_data(plt.subplot(gs[4]), df2['degree_rank'], hatch_style='//')\n",
    "plot_data(plt.subplot(gs[5]), df2['is_ap'],  sort_ascending=False, hatch_style='..')\n",
    "\n",
    "# Third row (no x-labels)\n",
    "plot_data(plt.subplot(gs[6]), df3['betweenness_rank'], ylabel='Frequency (b=3)', hatch_style=' ')\n",
    "plot_data(plt.subplot(gs[7]), df3['degree_rank'], hatch_style='//')\n",
    "plot_data(plt.subplot(gs[8]), df3['is_ap'], sort_ascending=False, hatch_style='..')\n",
    "\n",
    "# Fourth row (with x-labels)\n",
    "plot_data(plt.subplot(gs[9]), df4['betweenness_rank'], 'Betweenness Rank', 'Frequency (b=4)', hatch_style=' ')\n",
    "plot_data(plt.subplot(gs[10]), df4['degree_rank'], 'Degree Rank', hatch_style='//')\n",
    "plot_data(plt.subplot(gs[11]), df4['is_ap'], 'is_AP', sort_ascending=False, hatch_style='..')\n",
    "\n",
    "plt.tight_layout()\n",
    "plt.savefig(\"grd_analysis.pdf\")\n",
    "plt.show()"
   ]
  },
  {
   "cell_type": "markdown",
   "id": "e508c5c5",
   "metadata": {},
   "source": [
    "### Time comparison"
   ]
  },
  {
   "cell_type": "code",
   "execution_count": null,
   "id": "906f8c03",
   "metadata": {},
   "outputs": [],
   "source": [
    "%time disruption(G_Combined, main_centr=\"GRD\", block_size=3)"
   ]
  },
  {
   "cell_type": "code",
   "execution_count": null,
   "id": "6b92664c",
   "metadata": {},
   "outputs": [],
   "source": [
    "%time disruption(G_Combined, main_centr=\"SF-GRD\", block_size=3)"
   ]
  },
  {
   "cell_type": "code",
   "execution_count": null,
   "id": "a2759026",
   "metadata": {},
   "outputs": [],
   "source": [
    "%time disruption(G_Combined, main_centr=\"GRD\", block_size=4)"
   ]
  },
  {
   "cell_type": "code",
   "execution_count": null,
   "id": "95d5f60d",
   "metadata": {},
   "outputs": [],
   "source": [
    "%time disruption(G_Combined, main_centr=\"SF-GRD\", block_size=4)"
   ]
  },
  {
   "cell_type": "markdown",
   "id": "e1c3de4c",
   "metadata": {},
   "source": [
    "### Comparing different approaches"
   ]
  },
  {
   "cell_type": "code",
   "execution_count": null,
   "id": "114c8e8d",
   "metadata": {},
   "outputs": [],
   "source": [
    "centr_measures = {'Betweenness': [nx.betweenness_centrality, None],\n",
    "                  'Betweenness-Degree': [nx.betweenness_centrality, degree_centrality],\n",
    "                  'CI': [collective_influence_centrality, None],\n",
    "                  'Degree': [degree_centrality, None],\n",
    "                  'Degree-Betweenness': [degree_centrality, nx.betweenness_centrality],\n",
    "                  'CoreHD': ['CoreHD', degree_centrality],\n",
    "                  'APs-Degree':[\"APs\", degree_centrality],\n",
    "                  'GRD' : ['GRD', None],\n",
    "                  'SF-GRD' : ['SF-GRD', None]\n",
    "                   }"
   ]
  },
  {
   "cell_type": "code",
   "execution_count": null,
   "id": "72d291f0",
   "metadata": {},
   "outputs": [],
   "source": [
    "def plot_creation(dflcc, typerem, input_name, w):\n",
    "    \"\"\"\n",
    "    Network Disruption Plot.\n",
    "    :param tosave: (string) name path.\n",
    "    :param dflcc: (pandas.core.frame.DataFrame) Largest Connected Component Dataframe.\n",
    "    :param typerem: (string) Type of node removal. It can be 'Sequential' or 'Block'\n",
    "    :param input_name: (string) Name of Input Dataset. It can be 'Meeting' or 'PhoneCalls'\n",
    "    :param w: (string) it can be 'Weighted' or 'Unweighted'\n",
    "    \"\"\"\n",
    "    colnames = list(dflcc.columns)\n",
    "    n_rows = dflcc.shape[0]\n",
    "    \n",
    "    \n",
    "    sns.set_style(\"white\")\n",
    "#     plt.rcParams[\"font.weight\"] = \"bold\"\n",
    "    plt.rcParams['figure.figsize'] = [20, 10]\n",
    "#     plt.rcParams[\"axes.labelweight\"] = \"bold\"\n",
    "\n",
    "    #xlabel = colnames[0]\n",
    "    xlabel = dflcc.index\n",
    "    idx = list(range(0, n_rows, 5))\n",
    "    idx = list(range(0, dflcc.index[-1], 5))\n",
    "    plt.grid(True, linestyle=':')\n",
    "    for ylab in colnames[:]:\n",
    "        ax = sns.lineplot(x=xlabel, y=ylab, markers=True, dashes=False, data=dflcc, label=ylab, lw=4, marker=\"o\")\n",
    "    \n",
    "    ax.set_title(input_name, fontsize=24)\n",
    "    ax.set_xticks(idx)\n",
    "    ax.set_xlabel('Number of Nodes Removed', fontsize=20)\n",
    "    ax.set_ylabel('LCC Size', fontsize=20)\n",
    "    ax.yaxis.set_label_coords(0.05, 0.5)  # Adjust the x-coordinate to move the label into the graph\n",
    "    \n",
    "    ax.legend(fontsize=20)  # , prop=legend_properties)\n",
    "    ax.tick_params(labelsize=18)\n",
    "    # Uncomment below for a detailed plot of first 30 iterations, discarding the others.\n",
    "    # ax.set(xlim=(0, 30))\n",
    "    fig = plt.gcf()\n",
    "    plt.show()\n",
    "    fig.set_size_inches((11, 9), forward=False)\n",
    "#     fig.savefig('{0}_{1}_{2}-plos.png'.format(input_name, typerem, w),\n",
    "#                 dpi=300, format='png')\n",
    "    fig.savefig('{0}_{1}_{2}.pdf'.format(input_name, typerem, w))\n",
    "    fig.clf()"
   ]
  },
  {
   "cell_type": "code",
   "execution_count": null,
   "id": "ea073bd4",
   "metadata": {
    "scrolled": true
   },
   "outputs": [],
   "source": [
    "block_size = 1\n",
    "R_values, df_lcc_all, graph_snapshots = centrality_disruption_analysis(G_Combined, centr_measures, include_within_LCC=True, block_size=block_size, percentage=0.30)"
   ]
  },
  {
   "cell_type": "code",
   "execution_count": null,
   "id": "4420e125",
   "metadata": {},
   "outputs": [],
   "source": [
    "block_size = 2\n",
    "R_values_2, df_lcc_all_2, graph_snapshots_2= centrality_disruption_analysis(G_Combined, centr_measures, include_within_LCC=True, block_size=block_size)"
   ]
  },
  {
   "cell_type": "code",
   "execution_count": null,
   "id": "66c88bcc",
   "metadata": {},
   "outputs": [],
   "source": [
    "block_size = 3\n",
    "R_values_3, df_lcc_all_3, graph_snapshots_3= centrality_disruption_analysis(G_Combined, centr_measures, include_within_LCC=True, block_size=block_size)"
   ]
  },
  {
   "cell_type": "code",
   "execution_count": null,
   "id": "1762a5c4",
   "metadata": {},
   "outputs": [],
   "source": [
    "block_size = 4\n",
    "R_values_4, df_lcc_all_4, graph_snapshots_4= centrality_disruption_analysis(G_Combined, centr_measures, include_within_LCC=True, block_size=block_size)"
   ]
  },
  {
   "cell_type": "code",
   "execution_count": null,
   "id": "9f78ac9b",
   "metadata": {},
   "outputs": [],
   "source": [
    "# 40%\n",
    "block_size = 1\n",
    "pct = 0.4\n",
    "R_values, df_lcc_all_41, graph_snapshots_41 = centrality_disruption_analysis(G_Combined, centr_measures, include_within_LCC=True, block_size=block_size, percentage=pct)"
   ]
  },
  {
   "cell_type": "code",
   "execution_count": null,
   "id": "56506ccf",
   "metadata": {},
   "outputs": [],
   "source": [
    "block_size = 2\n",
    "pct = 0.4\n",
    "R_values, df_lcc_all_42, graph_snapshots_42 = centrality_disruption_analysis(G_Combined, centr_measures, include_within_LCC=True, block_size=block_size, percentage=pct)"
   ]
  },
  {
   "cell_type": "code",
   "execution_count": null,
   "id": "3fccbfad",
   "metadata": {},
   "outputs": [],
   "source": [
    "block_size = 3\n",
    "pct = 0.4\n",
    "R_values, df_lcc_all_43, graph_snapshots_43 = centrality_disruption_analysis(G_Combined, centr_measures, include_within_LCC=True, block_size=block_size, percentage=pct)"
   ]
  },
  {
   "cell_type": "code",
   "execution_count": null,
   "id": "681fd6b1",
   "metadata": {},
   "outputs": [],
   "source": [
    "block_size = 4\n",
    "pct = 0.4\n",
    "R_values, df_lcc_all_44, graph_snapshots_44 = centrality_disruption_analysis(G_Combined, centr_measures, include_within_LCC=True, block_size=block_size, percentage=pct)"
   ]
  }
 ],
 "metadata": {
  "kernelspec": {
   "display_name": "Python 3 (ipykernel)",
   "language": "python",
   "name": "python3"
  },
  "language_info": {
   "codemirror_mode": {
    "name": "ipython",
    "version": 3
   },
   "file_extension": ".py",
   "mimetype": "text/x-python",
   "name": "python",
   "nbconvert_exporter": "python",
   "pygments_lexer": "ipython3",
   "version": "3.10.9"
  }
 },
 "nbformat": 4,
 "nbformat_minor": 5
}
